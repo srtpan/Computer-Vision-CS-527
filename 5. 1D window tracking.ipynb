{
 "cells": [
  {
   "cell_type": "markdown",
   "id": "8c884b9b",
   "metadata": {},
   "source": [
    "# 1D window tracking"
   ]
  },
  {
   "cell_type": "markdown",
   "id": "c59299a6",
   "metadata": {},
   "source": [
    "Continuing with the image differentiation, wherein we set the premise for edge detection and motion analysis, we will study in detail on how to implement those ideas in practice. \n",
    "\n",
    "Motion analysis is an important technique in which image sequences, like video are analyzed to understand motion between the images. It can be simple application of finding if the object in the image frames are moving and more complex application would be to detect motion of a specific object across the frames. It has possibilities of application in manufacturing, healthcare, satellite imaging, etc. \n",
    "\n",
    "Before making computers understand how to detect motion, let's go over how our brain detects motion.\n",
    "\n",
    "Our brain perceives objects in motion as the objects move across sensors in our eyes[2]. After being observed by our eyes, our brain compares consecutive video frames to make inferences about the motion. This is similar to detecting motion where the intensity of light incident on the sensors changes rapidly. \n",
    "\n",
    "There are variety of applications of motion detection namely tracking, video compression, alignment, motion based segmentation, etc. \n",
    "\n",
    "A video is nothing but a sequence of frames captured over time. In one dimension, image data is a function of location (x) and time (t). We have already gone over one of the simplest ways to detect motion: image differentiation, we will go over the next method which is based on *optical flow*.\n",
    "\n",
    "Optical flow is when we fix on a single point and measure velocity flowing through that particular point. It assumes that image intensity is constant over a infinitesimal time period $\\Delta t$. \n",
    "\n",
    "Using this, we get the Brightness Change Constraint Equation (BCCE).\n",
    "\n",
    "$$ \\frac{\\partial e}{\\partial x} \\frac{dx}{dt} + \\frac{\\partial e}{\\partial t} =0 $$\n",
    "\n",
    "We can utilize this to detect motion. "
   ]
  },
  {
   "cell_type": "markdown",
   "id": "cc003e42",
   "metadata": {},
   "source": [
    "## Window Tracking in general\n",
    "\n",
    "Before we dive into particular details of algorithm *Lucas Kanade tracker*, let's understand the basics behind window tracking and how it is done in 1D.\n",
    "\n",
    "For two grayscale images f(x) and g(x), of same scene from different points of view, e imagine a small window W($x_{f}$), of length 2h+1 centered at $x_{f}$ in f , so we have to find \n",
    "\n",
    "$$ x_{g} = x_{f} + d^{*} (x_{f}) $$\n",
    "\n",
    "This denotes the corresponding center on Window in the image g(x). \n",
    "\n",
    "$d^{*} (x_{f})$ is the displacement of the point feature. \n",
    "\n",
    "To find the optimum value of displacement, $d^{*} (x_{f})$, we measure the residual \n",
    "\n",
    "$$ L(x_{f},d) = \\sum_{x} [g(x+d)-f(x)]^{2} \\ w(x-x_{f})$$\n",
    "\n",
    "here, w(x) is the indicator function of window W(0)\n",
    "\n",
    "\n",
    "$$  d^{*} (x_{f}) = argmin L(x_{f},d) $$ which is operated over a search range, a square centered at the origin of the plane.\n",
    "\n",
    "The underlying assumption is that motion in window W($x_{f}$) is constant. In general, which might not be always true so the indicator function used for W($x_{f}$) is used as trunctaed Gaussian.\n",
    "\n",
    "One of the ways to optimize the the loss function is to go for an exhaustive grid search but it is comptutional expensive. \n",
    "\n",
    "We have Lucas Kanade way of optimising it using the assumption that velocity vector is constant within a small neighbourhood. "
   ]
  },
  {
   "cell_type": "markdown",
   "id": "941d4406",
   "metadata": {},
   "source": [
    "## A very simple representation of point tracking in 1D\n",
    "\n",
    "Because this notebook focussed on 1D, let's see a very simple implementation of window tracking (point tracking in 1D) and understand the concept better.\n",
    "\n",
    "Let's say we have two curves \n",
    "\n",
    "f(x)=sinx\n",
    "g(x)=sin(x+0.3)"
   ]
  },
  {
   "cell_type": "code",
   "execution_count": 1,
   "id": "757a7ff9",
   "metadata": {},
   "outputs": [],
   "source": [
    "import numpy as np\n",
    "import pandas as pd\n",
    "import matplotlib.pyplot as plt\n",
    "from matplotlib.pyplot import figure"
   ]
  },
  {
   "cell_type": "code",
   "execution_count": 2,
   "id": "c71bffcc",
   "metadata": {},
   "outputs": [
    {
     "data": {
      "image/png": "[encoded data removed]",
      "text/plain": [
       "<Figure size 432x288 with 1 Axes>"
      ]
     },
     "metadata": {
      "needs_background": "light"
     },
     "output_type": "display_data"
    }
   ],
   "source": [
    "x=np.arange(0,4*np.pi,0.2)\n",
    "f_x=np.sin(x)\n",
    "g_x=np.sin(x+0.3)\n",
    "g_prime_x=np.gradient(g_x)\n",
    "\n",
    "\n",
    "plt.plot(x,f_x)\n",
    "plt.plot(x,g_x)\n",
    "plt.legend(['sin(x)', 'sin(x+0.3)'])\n",
    "plt.show()"
   ]
  },
  {
   "cell_type": "markdown",
   "id": "9bc7e628",
   "metadata": {},
   "source": [
    "In the curve above, we know that the second curve, g(x) is shifted by 0.3.\n",
    "\n",
    "what if we did not know that and we just had these two images f(x) and g(x) which are images of same scene from different view points and we wanted to calculate displacment between them?\n",
    "\n",
    "To enable that, we will create a simple 1D point tracker. \n",
    "\n",
    "So we have two images f(x) and g(x+h)\n",
    "\n",
    "At any point x, the loss function discussed above will be \n",
    "\n",
    "$$L(d)= [g(x+h)-f(x)]^{2}$$\n",
    "\n",
    "$$L(d)\\approx [g(x)+ hg'(x)-f(x)]^{2}$$ using Taylor series expansion\n",
    "\n",
    "Differentiating and setting it equal to zero, we can calculate the value of h as being approximately \n",
    "\n",
    "$$h \\approx \\frac{g(x)-f(x)}{-g'(x)}$$"
   ]
  },
  {
   "cell_type": "code",
   "execution_count": 3,
   "id": "c6c246ae",
   "metadata": {},
   "outputs": [],
   "source": [
    "def derivative(f,a,method='central',h=0.01):\n",
    "        return (f(a + h) - f(a - h))/(2*h)"
   ]
  },
  {
   "cell_type": "code",
   "execution_count": 4,
   "id": "83e4ba25",
   "metadata": {},
   "outputs": [],
   "source": [
    "def f(x):\n",
    "    return np.sin(x)"
   ]
  },
  {
   "cell_type": "code",
   "execution_count": 5,
   "id": "64086d25",
   "metadata": {},
   "outputs": [],
   "source": [
    "def g(x):\n",
    "    return np.sin(x+0.3)"
   ]
  },
  {
   "cell_type": "code",
   "execution_count": 6,
   "id": "6ddcd4dc",
   "metadata": {},
   "outputs": [
    {
     "data": {
      "text/plain": [
       "0.25660255689636835"
      ]
     },
     "execution_count": 6,
     "metadata": {},
     "output_type": "execute_result"
    }
   ],
   "source": [
    "x=7\n",
    "f_x=f(x)\n",
    "g_x=g(x)\n",
    "g_prime_x=derivative(np.sin,x)\n",
    "\n",
    "h=(g_x-f_x)/g_prime_x\n",
    "h"
   ]
  },
  {
   "cell_type": "markdown",
   "id": "db37ffe8",
   "metadata": {},
   "source": [
    "Which is close to our original shifted value, 0.3. We are doing approximation here and a very simple implementation, therefore we do not have an exact number. \n",
    "\n",
    "This was a simple demonstration of 1D point tracking. Let's move to Lucas Kanade tracker in 1d"
   ]
  },
  {
   "cell_type": "markdown",
   "id": "f37990b0",
   "metadata": {},
   "source": [
    "## Lucas Kanade tracker in 1D\n",
    "\n",
    "With underlying assumptions that:\n",
    "\n",
    "<li> Velocity vector is constant within a small neighbourhood </li>\n",
    "<li> The motion is small within the windown </li>\n",
    "\n",
    "We can attempt at creating a Lucas Kanade tracker in 1D. \n",
    "\n",
    "Before that, let's go over optical flow in 1D.\n",
    "\n",
    "For an image's irradiance e(x,t), at a point p,\n",
    "\n",
    "Temporal derivative, will be \n",
    "$$ e_{t}= \\frac{\\partial e}{\\partial t} $$ and spatial derivative will be $$ e_{x}=\\frac{\\partial e}{\\partial x} $$\n",
    "\n",
    "Using the BCCE equation, \n",
    "\n",
    "$$ \\frac{\\partial e}{\\partial x} \\frac{dx}{dt} + \\frac{\\partial e}{\\partial t} =0 $$\n",
    "\n",
    "$$ u \\nabla= - \\frac{e_{t}}{e_{x}} $$\n",
    "\n",
    "We will keep calculating $u \\nabla$ which is the incremental displacement and  terminate where either norm $u\\nabla$ or L($d^{*}$) is too large. \n",
    "\n",
    "To ensure that, we start at some initial point $u_{0}$  \n",
    "\n",
    "The overall displacement will be sum of displacement at each step "
   ]
  },
  {
   "cell_type": "markdown",
   "id": "a76c40b8",
   "metadata": {},
   "source": [
    "## Lucas Kanade tracker in Python"
   ]
  },
  {
   "cell_type": "markdown",
   "id": "f5ffbdbe",
   "metadata": {},
   "source": [
    "This is an interative process, so we will try to build upon the simplified point tracker that we had built in the last section. \n",
    "\n",
    "Our functions are the same"
   ]
  },
  {
   "cell_type": "code",
   "execution_count": 7,
   "id": "9288f39d",
   "metadata": {},
   "outputs": [
    {
     "data": {
      "image/png": "[encoded data removed]",
      "text/plain": [
       "<Figure size 432x288 with 1 Axes>"
      ]
     },
     "metadata": {
      "needs_background": "light"
     },
     "output_type": "display_data"
    }
   ],
   "source": [
    "x=np.arange(0,4*np.pi,0.2)\n",
    "f_x=np.sin(x)\n",
    "g_x=np.sin(x+0.3)\n",
    "g_prime_x=np.gradient(g_x)\n",
    "\n",
    "plt.plot(x,f_x)\n",
    "plt.plot(x,g_x)\n",
    "plt.legend(['sin(x)', 'sin(x+0.3)'])\n",
    "plt.show()"
   ]
  },
  {
   "cell_type": "markdown",
   "id": "85cb1097",
   "metadata": {},
   "source": [
    "We can calculate the value of $e_{x}$ using the differentiation formula with central difference formula."
   ]
  },
  {
   "cell_type": "code",
   "execution_count": 8,
   "id": "52beb23b",
   "metadata": {},
   "outputs": [],
   "source": [
    "def derivative(f,a,method='central',h=0.01):\n",
    "        return (f(a + h) - f(a - h))/(2*h)"
   ]
  },
  {
   "cell_type": "code",
   "execution_count": 9,
   "id": "d63fa41a",
   "metadata": {},
   "outputs": [
    {
     "data": {
      "text/plain": [
       "0.7538896893685365"
      ]
     },
     "execution_count": 9,
     "metadata": {},
     "output_type": "execute_result"
    }
   ],
   "source": [
    "e_x=derivative(np.sin,7) #we can keep using this value later on\n",
    "e_x"
   ]
  },
  {
   "cell_type": "markdown",
   "id": "f653c3e7",
   "metadata": {},
   "source": [
    "Now, at each step, we will calculate $I_{t}$ which the difference between $g_{x}$ and $f_{x}$ and the values we find out for $u\\nabla$, we will update the function $g_{x}$ as $g_{x+u}$ and keep the process continued till we notice that the norm of $u\\nabla$ is very large and we will terminate optimization there. \n",
    "\n",
    "The overall displacement will the be sum of incremental displacement till that step. \n",
    "\n",
    "The implementation is very discrete here and can be converted into a function, which has been done later on!"
   ]
  },
  {
   "cell_type": "code",
   "execution_count": 10,
   "id": "e7bef794",
   "metadata": {},
   "outputs": [],
   "source": [
    "x=7\n",
    "g_x=g(7)\n",
    "f_x=f(7)"
   ]
  },
  {
   "cell_type": "code",
   "execution_count": 11,
   "id": "4148541a",
   "metadata": {},
   "outputs": [],
   "source": [
    "#function that returns total displacement by comparing two images\n",
    "\n",
    "def lucas_kanade(fx,gx,ex,x,delta,epsilon):\n",
    "    \"\"\"\n",
    "    Applies Lucas Kanade window tracking method in 1D under \n",
    "    the assumption of BCCE and small motion at that point. \n",
    "    The function returns the total displacement at a particular\n",
    "    value. \n",
    "    \n",
    "    Parameters\n",
    "    ----------\n",
    "    fx: ndarray\n",
    "        reference image\n",
    "    gx:ndarray\n",
    "        displaced image to be compared against\n",
    "        reference image \n",
    "    x: integer\n",
    "        local value \n",
    "    delta: float\n",
    "        threshold for each step value\n",
    "    epsilon: float\n",
    "        threshold to compare loss function\n",
    "    \n",
    "    \n",
    "    Returns\n",
    "    -------\n",
    "    sum(del_u) : float\n",
    "        total_displacement\n",
    "    \n",
    "    \n",
    "    \"\"\"\n",
    "    #creating an empty array to store incremental displacement\n",
    "    del_u=[]\n",
    "    x=x\n",
    "    #temporal derivative\n",
    "    e_t=gx-fx\n",
    "    #incremental derivative\n",
    "    del_u_initial=-e_t/ex\n",
    "    #initial and updated loss function values\n",
    "    L_initial=e_t**2\n",
    "    L_updated=0\n",
    "    #applying the thresholds for convergence\n",
    "    while abs(del_u_initial)>delta and L_initial-L_updated>epsilon:\n",
    "        e_t=gx-fx \n",
    "        L_initial=e_t**2\n",
    "        del_u_temp=-e_t/ex\n",
    "        del_u.append(del_u_temp)\n",
    "        gx=g(x+del_u_temp)\n",
    "        del_u_initial=del_u_temp\n",
    "        L_updated=(gx-fx)**2\n",
    "        \n",
    "    return sum(del_u)"
   ]
  },
  {
   "cell_type": "code",
   "execution_count": 12,
   "id": "2b1ea0cd",
   "metadata": {},
   "outputs": [
    {
     "data": {
      "text/plain": [
       "-0.2991666018736986"
      ]
     },
     "execution_count": 12,
     "metadata": {},
     "output_type": "execute_result"
    }
   ],
   "source": [
    "displacement=lucas_kanade(f_x,g_x,e_x,7,0.00001,0.00001)\n",
    "displacement"
   ]
  },
  {
   "cell_type": "markdown",
   "id": "f1d1679a",
   "metadata": {},
   "source": [
    "The value of local displacement at x=7 is very close to the original displacement. The value is negative, however because the direction of displacement here is assumed to be from the displaced image to the original image, rather than from original to displaced image. "
   ]
  },
  {
   "cell_type": "markdown",
   "id": "33770ebb",
   "metadata": {},
   "source": [
    "References:\n",
    "\n",
    "1. Duke University, CS 527, Spring 22: https://courses.cs.duke.edu//spring22/compsci527/notes/n_07_image_motion.pdf\n",
    "2. University of Central Florida CAP5415: http://www.cs.ucf.edu/~bagci/teaching/computervision17/Lec7.pdf \n",
    "3. University of Zurich lecture on Tracking, 2015: https://files.ifi.uzh.ch/rpg/teaching/2015/11_tracking.pdf\n",
    "4. Clemenson University, ECE 847 Fall 2005: https://cecas.clemson.edu/~stb/ece847/internal/lectures/lecture06-motion.ppt"
   ]
  }
 ],
 "metadata": {
  "kernelspec": {
   "display_name": "Python 3 (ipykernel)",
   "language": "python",
   "name": "python3"
  },
  "language_info": {
   "codemirror_mode": {
    "name": "ipython",
    "version": 3
   },
   "file_extension": ".py",
   "mimetype": "text/x-python",
   "name": "python",
   "nbconvert_exporter": "python",
   "pygments_lexer": "ipython3",
   "version": "3.8.8"
  }
 },
 "nbformat": 4,
 "nbformat_minor": 5
}
